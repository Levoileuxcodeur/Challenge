{
 "cells": [
  {
   "cell_type": "markdown",
   "metadata": {},
   "source": [
    "# Intelcom Data Science Challenge\n",
    "\n",
    "### Table of content\n",
    " 1. Introduction\n",
    " 2. Data Understanding\n",
    " 3. Exploratory Data Analysis\n",
    " 4. Modeling \n"
   ]
  },
  {
   "cell_type": "markdown",
   "metadata": {},
   "source": [
    "# 1. Introduction\n",
    "\n",
    "### <b>Data characteristics:</b> \n",
    "I am provided with a .csv file with multiple feature columns and a label column\n",
    "\n",
    "\n",
    "### <b>Objective:</b> \n",
    "\n",
    "This notebook is for a challenge for a Data Scientist job opening at Intelcom Express.\n",
    "\n",
    "The goals is to build a model that takes as input the feature columns and outputs a predicted label.\n",
    "\n",
    "\n",
    "\n"
   ]
  },
  {
   "cell_type": "markdown",
   "metadata": {},
   "source": [
    "# 2. Data Understanding\n",
    "\n",
    "### 2.1 Importation of the libraries to be used during this study"
   ]
  },
  {
   "cell_type": "code",
   "execution_count": 374,
   "metadata": {
    "jupyter": {
     "source_hidden": true
    }
   },
   "outputs": [],
   "source": [
    "%matplotlib inline\n",
    "from sklearn import linear_model\n",
    "import matplotlib.pyplot as plt\n",
    "import seaborn as sns\n",
    "import pandas as pd\n",
    "import numpy as np\n",
    "import statsmodels.api as sm\n",
    "from IPython.display import HTML\n",
    "\n",
    "from sklearn.linear_model import Ridge\n",
    "from sklearn.preprocessing import PolynomialFeatures\n",
    "from sklearn.pipeline import make_pipeline\n",
    "from sklearn.neighbors import KNeighborsRegressor\n",
    "from sklearn import preprocessing\n",
    "\n",
    "import datetime \n"
   ]
  },
  {
   "cell_type": "code",
   "execution_count": 375,
   "metadata": {
    "jupyter": {
     "source_hidden": true
    }
   },
   "outputs": [
    {
     "data": {
      "text/html": [
       "<div>\n",
       "<style scoped>\n",
       "    .dataframe tbody tr th:only-of-type {\n",
       "        vertical-align: middle;\n",
       "    }\n",
       "\n",
       "    .dataframe tbody tr th {\n",
       "        vertical-align: top;\n",
       "    }\n",
       "\n",
       "    .dataframe thead th {\n",
       "        text-align: right;\n",
       "    }\n",
       "</style>\n",
       "<table border=\"1\" class=\"dataframe\">\n",
       "  <thead>\n",
       "    <tr style=\"text-align: right;\">\n",
       "      <th></th>\n",
       "      <th>Daily Time Spent on Site</th>\n",
       "      <th>Age</th>\n",
       "      <th>Area Income</th>\n",
       "      <th>Daily Internet Usage</th>\n",
       "      <th>Ad Topic Line</th>\n",
       "      <th>City</th>\n",
       "      <th>Male</th>\n",
       "      <th>Country</th>\n",
       "      <th>Timestamp</th>\n",
       "      <th>Clicked on Ad</th>\n",
       "    </tr>\n",
       "  </thead>\n",
       "  <tbody>\n",
       "    <tr>\n",
       "      <th>0</th>\n",
       "      <td>68.95</td>\n",
       "      <td>35</td>\n",
       "      <td>61833.90</td>\n",
       "      <td>256.09</td>\n",
       "      <td>Cloned 5thgeneration orchestration</td>\n",
       "      <td>Wrightburgh</td>\n",
       "      <td>0</td>\n",
       "      <td>Tunisia</td>\n",
       "      <td>2016-03-27 00:53:11</td>\n",
       "      <td>0</td>\n",
       "    </tr>\n",
       "    <tr>\n",
       "      <th>1</th>\n",
       "      <td>80.23</td>\n",
       "      <td>31</td>\n",
       "      <td>68441.85</td>\n",
       "      <td>193.77</td>\n",
       "      <td>Monitored national standardization</td>\n",
       "      <td>West Jodi</td>\n",
       "      <td>1</td>\n",
       "      <td>Nauru</td>\n",
       "      <td>2016-04-04 01:39:02</td>\n",
       "      <td>0</td>\n",
       "    </tr>\n",
       "  </tbody>\n",
       "</table>\n",
       "</div>"
      ],
      "text/plain": [
       "  Daily Time Spent on Site  Age  Area Income  Daily Internet Usage  \\\n",
       "0                    68.95   35     61833.90                256.09   \n",
       "1                    80.23   31     68441.85                193.77   \n",
       "\n",
       "                        Ad Topic Line         City  Male  Country  \\\n",
       "0  Cloned 5thgeneration orchestration  Wrightburgh     0  Tunisia   \n",
       "1  Monitored national standardization    West Jodi     1    Nauru   \n",
       "\n",
       "             Timestamp Clicked on Ad  \n",
       "0  2016-03-27 00:53:11             0  \n",
       "1  2016-04-04 01:39:02             0  "
      ]
     },
     "execution_count": 375,
     "metadata": {},
     "output_type": "execute_result"
    }
   ],
   "source": [
    "data = pd.read_csv(\"DataScienceChallenge.csv\")\n",
    "data.dropna(axis='rows', inplace=True) # we drop rows with NA values\n",
    "data.head(2)"
   ]
  },
  {
   "cell_type": "markdown",
   "metadata": {},
   "source": [
    "### 2.2 Data manipulations prior to analysis"
   ]
  },
  {
   "cell_type": "code",
   "execution_count": 376,
   "metadata": {},
   "outputs": [
    {
     "name": "stdout",
     "output_type": "stream",
     "text": [
      "Daily Time Spent on Site           float64\n",
      "Age                                  int64\n",
      "Area Income                        float64\n",
      "Daily Internet Usage               float64\n",
      "Ad Topic Line                       object\n",
      "City                                object\n",
      "Male                                 int64\n",
      "Country                             object\n",
      "Timestamp                   datetime64[ns]\n",
      "Clicked on Ad                        int64\n",
      "dtype: object\n"
     ]
    }
   ],
   "source": [
    "data['Clicked on Ad'] = pd.to_numeric(data['Clicked on Ad'],errors='coerce')\n",
    "data['Daily Time Spent on Site'] = pd.to_numeric(data['Daily Time Spent on Site'],errors='coerce')\n",
    "data['Timestamp'] = data['Timestamp'].str[:10]\n",
    "data['Timestamp'] = pd.to_datetime(data['Timestamp'])\n",
    "\n",
    "print(data.dtypes)"
   ]
  },
  {
   "cell_type": "code",
   "execution_count": 377,
   "metadata": {},
   "outputs": [
    {
     "data": {
      "text/html": [
       "<div>\n",
       "<style scoped>\n",
       "    .dataframe tbody tr th:only-of-type {\n",
       "        vertical-align: middle;\n",
       "    }\n",
       "\n",
       "    .dataframe tbody tr th {\n",
       "        vertical-align: top;\n",
       "    }\n",
       "\n",
       "    .dataframe thead th {\n",
       "        text-align: right;\n",
       "    }\n",
       "</style>\n",
       "<table border=\"1\" class=\"dataframe\">\n",
       "  <thead>\n",
       "    <tr style=\"text-align: right;\">\n",
       "      <th></th>\n",
       "      <th>Daily Time Spent on Site</th>\n",
       "      <th>Age</th>\n",
       "      <th>Area Income</th>\n",
       "      <th>Daily Internet Usage</th>\n",
       "      <th>Ad Topic Line</th>\n",
       "      <th>City</th>\n",
       "      <th>Male</th>\n",
       "      <th>Country</th>\n",
       "      <th>Timestamp</th>\n",
       "      <th>Clicked on Ad</th>\n",
       "    </tr>\n",
       "  </thead>\n",
       "  <tbody>\n",
       "    <tr>\n",
       "      <th>0</th>\n",
       "      <td>68.95</td>\n",
       "      <td>35</td>\n",
       "      <td>61833.90</td>\n",
       "      <td>256.09</td>\n",
       "      <td>Cloned 5thgeneration orchestration</td>\n",
       "      <td>Wrightburgh</td>\n",
       "      <td>0</td>\n",
       "      <td>Tunisia</td>\n",
       "      <td>2016-03-27</td>\n",
       "      <td>0</td>\n",
       "    </tr>\n",
       "    <tr>\n",
       "      <th>1</th>\n",
       "      <td>80.23</td>\n",
       "      <td>31</td>\n",
       "      <td>68441.85</td>\n",
       "      <td>193.77</td>\n",
       "      <td>Monitored national standardization</td>\n",
       "      <td>West Jodi</td>\n",
       "      <td>1</td>\n",
       "      <td>Nauru</td>\n",
       "      <td>2016-04-04</td>\n",
       "      <td>0</td>\n",
       "    </tr>\n",
       "    <tr>\n",
       "      <th>2</th>\n",
       "      <td>69.47</td>\n",
       "      <td>26</td>\n",
       "      <td>59785.94</td>\n",
       "      <td>236.50</td>\n",
       "      <td>Organic bottom-line service-desk</td>\n",
       "      <td>Davidton</td>\n",
       "      <td>0</td>\n",
       "      <td>San Marino</td>\n",
       "      <td>2016-03-13</td>\n",
       "      <td>0</td>\n",
       "    </tr>\n",
       "  </tbody>\n",
       "</table>\n",
       "</div>"
      ],
      "text/plain": [
       "   Daily Time Spent on Site  Age  Area Income  Daily Internet Usage  \\\n",
       "0                     68.95   35     61833.90                256.09   \n",
       "1                     80.23   31     68441.85                193.77   \n",
       "2                     69.47   26     59785.94                236.50   \n",
       "\n",
       "                        Ad Topic Line         City  Male     Country  \\\n",
       "0  Cloned 5thgeneration orchestration  Wrightburgh     0     Tunisia   \n",
       "1  Monitored national standardization    West Jodi     1       Nauru   \n",
       "2    Organic bottom-line service-desk     Davidton     0  San Marino   \n",
       "\n",
       "   Timestamp  Clicked on Ad  \n",
       "0 2016-03-27              0  \n",
       "1 2016-04-04              0  \n",
       "2 2016-03-13              0  "
      ]
     },
     "execution_count": 377,
     "metadata": {},
     "output_type": "execute_result"
    }
   ],
   "source": [
    "data.head(3)"
   ]
  },
  {
   "cell_type": "code",
   "execution_count": 378,
   "metadata": {},
   "outputs": [
    {
     "name": "stdout",
     "output_type": "stream",
     "text": [
      "Daily Time Spent on Site           float64\n",
      "Age                                  int64\n",
      "Area Income                        float64\n",
      "Daily Internet Usage               float64\n",
      "Ad Topic Line                       object\n",
      "City                                object\n",
      "Male                                 int64\n",
      "Country                             object\n",
      "Timestamp                   datetime64[ns]\n",
      "Clicked on Ad                        int64\n",
      "dtype: object\n"
     ]
    }
   ],
   "source": [
    "print(data.dtypes)"
   ]
  },
  {
   "cell_type": "markdown",
   "metadata": {},
   "source": [
    "### 2.3 Variables Description"
   ]
  },
  {
   "cell_type": "markdown",
   "metadata": {},
   "source": [
    "#### Quantitave data:\n",
    "<li><b>Daily Time Spent on Site:</b>  The amount of time spent on a website per day (min)</li>\n",
    "<li><b>Age:</b> Age of the user (years)</li>\n",
    "<li><b>Area Income:</b> The income of the household, presumably</li>\n",
    "<li><b>Daily Internet Usage\t:</b> The amount of internet usage per day (Mo presumably)</li>\n",
    "<li><b>Timestamp:</b> Time stamp</li>\n",
    "\n",
    "#### Categorical data:\n",
    "<li><b>Ad Topic Line:</b> </li>\n",
    "<li><b>City:</b> The city of the user </li>\n",
    "<li><b>Male:</b> The user gender</li>\n",
    "<li><b>Country:</b> Does the house have a garage or not?</li>\n",
    "<li><b>Clicked on Ad:</b> When was the house built?</li>\n",
    "\n",
    "\n",
    "\n",
    "\n",
    "\n"
   ]
  },
  {
   "cell_type": "markdown",
   "metadata": {},
   "source": [
    "# 3. Exploratory Data Analysis\n"
   ]
  },
  {
   "cell_type": "markdown",
   "metadata": {},
   "source": [
    "## 3.1 Statistical distribution of quantitative variables"
   ]
  },
  {
   "cell_type": "code",
   "execution_count": 379,
   "metadata": {},
   "outputs": [
    {
     "data": {
      "text/html": [
       "<div>\n",
       "<style scoped>\n",
       "    .dataframe tbody tr th:only-of-type {\n",
       "        vertical-align: middle;\n",
       "    }\n",
       "\n",
       "    .dataframe tbody tr th {\n",
       "        vertical-align: top;\n",
       "    }\n",
       "\n",
       "    .dataframe thead th {\n",
       "        text-align: right;\n",
       "    }\n",
       "</style>\n",
       "<table border=\"1\" class=\"dataframe\">\n",
       "  <thead>\n",
       "    <tr style=\"text-align: right;\">\n",
       "      <th></th>\n",
       "      <th>Daily Time Spent on Site</th>\n",
       "      <th>Age</th>\n",
       "      <th>Area Income</th>\n",
       "      <th>Daily Internet Usage</th>\n",
       "      <th>Male</th>\n",
       "      <th>Clicked on Ad</th>\n",
       "    </tr>\n",
       "  </thead>\n",
       "  <tbody>\n",
       "    <tr>\n",
       "      <th>count</th>\n",
       "      <td>859.000000</td>\n",
       "      <td>873.000000</td>\n",
       "      <td>873.000000</td>\n",
       "      <td>873.000000</td>\n",
       "      <td>873.000000</td>\n",
       "      <td>873.000000</td>\n",
       "    </tr>\n",
       "    <tr>\n",
       "      <th>mean</th>\n",
       "      <td>65.084354</td>\n",
       "      <td>36.030928</td>\n",
       "      <td>55315.678144</td>\n",
       "      <td>180.375315</td>\n",
       "      <td>0.474227</td>\n",
       "      <td>0.493700</td>\n",
       "    </tr>\n",
       "    <tr>\n",
       "      <th>std</th>\n",
       "      <td>15.831976</td>\n",
       "      <td>8.825407</td>\n",
       "      <td>13028.738020</td>\n",
       "      <td>44.168633</td>\n",
       "      <td>0.499622</td>\n",
       "      <td>0.500247</td>\n",
       "    </tr>\n",
       "    <tr>\n",
       "      <th>min</th>\n",
       "      <td>32.600000</td>\n",
       "      <td>19.000000</td>\n",
       "      <td>14548.060000</td>\n",
       "      <td>104.780000</td>\n",
       "      <td>0.000000</td>\n",
       "      <td>0.000000</td>\n",
       "    </tr>\n",
       "    <tr>\n",
       "      <th>25%</th>\n",
       "      <td>51.340000</td>\n",
       "      <td>29.000000</td>\n",
       "      <td>47391.950000</td>\n",
       "      <td>139.320000</td>\n",
       "      <td>0.000000</td>\n",
       "      <td>0.000000</td>\n",
       "    </tr>\n",
       "    <tr>\n",
       "      <th>50%</th>\n",
       "      <td>68.680000</td>\n",
       "      <td>35.000000</td>\n",
       "      <td>57425.870000</td>\n",
       "      <td>183.480000</td>\n",
       "      <td>0.000000</td>\n",
       "      <td>0.000000</td>\n",
       "    </tr>\n",
       "    <tr>\n",
       "      <th>75%</th>\n",
       "      <td>78.355000</td>\n",
       "      <td>42.000000</td>\n",
       "      <td>65280.160000</td>\n",
       "      <td>219.550000</td>\n",
       "      <td>1.000000</td>\n",
       "      <td>1.000000</td>\n",
       "    </tr>\n",
       "    <tr>\n",
       "      <th>max</th>\n",
       "      <td>91.430000</td>\n",
       "      <td>61.000000</td>\n",
       "      <td>79484.800000</td>\n",
       "      <td>269.960000</td>\n",
       "      <td>1.000000</td>\n",
       "      <td>1.000000</td>\n",
       "    </tr>\n",
       "  </tbody>\n",
       "</table>\n",
       "</div>"
      ],
      "text/plain": [
       "       Daily Time Spent on Site         Age   Area Income  \\\n",
       "count                859.000000  873.000000    873.000000   \n",
       "mean                  65.084354   36.030928  55315.678144   \n",
       "std                   15.831976    8.825407  13028.738020   \n",
       "min                   32.600000   19.000000  14548.060000   \n",
       "25%                   51.340000   29.000000  47391.950000   \n",
       "50%                   68.680000   35.000000  57425.870000   \n",
       "75%                   78.355000   42.000000  65280.160000   \n",
       "max                   91.430000   61.000000  79484.800000   \n",
       "\n",
       "       Daily Internet Usage        Male  Clicked on Ad  \n",
       "count            873.000000  873.000000     873.000000  \n",
       "mean             180.375315    0.474227       0.493700  \n",
       "std               44.168633    0.499622       0.500247  \n",
       "min              104.780000    0.000000       0.000000  \n",
       "25%              139.320000    0.000000       0.000000  \n",
       "50%              183.480000    0.000000       0.000000  \n",
       "75%              219.550000    1.000000       1.000000  \n",
       "max              269.960000    1.000000       1.000000  "
      ]
     },
     "execution_count": 379,
     "metadata": {},
     "output_type": "execute_result"
    }
   ],
   "source": [
    "data.describe()"
   ]
  },
  {
   "cell_type": "code",
   "execution_count": 380,
   "metadata": {
    "jupyter": {
     "source_hidden": true
    }
   },
   "outputs": [
    {
     "data": {
      "text/html": [
       "<div>\n",
       "<style scoped>\n",
       "    .dataframe tbody tr th:only-of-type {\n",
       "        vertical-align: middle;\n",
       "    }\n",
       "\n",
       "    .dataframe tbody tr th {\n",
       "        vertical-align: top;\n",
       "    }\n",
       "\n",
       "    .dataframe thead th {\n",
       "        text-align: right;\n",
       "    }\n",
       "</style>\n",
       "<table border=\"1\" class=\"dataframe\">\n",
       "  <thead>\n",
       "    <tr style=\"text-align: right;\">\n",
       "      <th></th>\n",
       "      <th>Daily Time Spent on Site</th>\n",
       "      <th>Age</th>\n",
       "      <th>Area Income</th>\n",
       "      <th>Daily Internet Usage</th>\n",
       "      <th>Male</th>\n",
       "      <th>Clicked on Ad</th>\n",
       "    </tr>\n",
       "  </thead>\n",
       "  <tbody>\n",
       "    <tr>\n",
       "      <th>Daily Time Spent on Site</th>\n",
       "      <td>1.000000</td>\n",
       "      <td>-0.330578</td>\n",
       "      <td>0.317495</td>\n",
       "      <td>0.516474</td>\n",
       "      <td>-0.031871</td>\n",
       "      <td>-0.744232</td>\n",
       "    </tr>\n",
       "    <tr>\n",
       "      <th>Age</th>\n",
       "      <td>-0.330578</td>\n",
       "      <td>1.000000</td>\n",
       "      <td>-0.187962</td>\n",
       "      <td>-0.383187</td>\n",
       "      <td>-0.032459</td>\n",
       "      <td>0.495268</td>\n",
       "    </tr>\n",
       "    <tr>\n",
       "      <th>Area Income</th>\n",
       "      <td>0.317495</td>\n",
       "      <td>-0.187962</td>\n",
       "      <td>1.000000</td>\n",
       "      <td>0.329063</td>\n",
       "      <td>-0.009542</td>\n",
       "      <td>-0.474938</td>\n",
       "    </tr>\n",
       "    <tr>\n",
       "      <th>Daily Internet Usage</th>\n",
       "      <td>0.516474</td>\n",
       "      <td>-0.383187</td>\n",
       "      <td>0.329063</td>\n",
       "      <td>1.000000</td>\n",
       "      <td>0.028773</td>\n",
       "      <td>-0.789526</td>\n",
       "    </tr>\n",
       "    <tr>\n",
       "      <th>Male</th>\n",
       "      <td>-0.031871</td>\n",
       "      <td>-0.032459</td>\n",
       "      <td>-0.009542</td>\n",
       "      <td>0.028773</td>\n",
       "      <td>1.000000</td>\n",
       "      <td>-0.029328</td>\n",
       "    </tr>\n",
       "    <tr>\n",
       "      <th>Clicked on Ad</th>\n",
       "      <td>-0.744232</td>\n",
       "      <td>0.495268</td>\n",
       "      <td>-0.474938</td>\n",
       "      <td>-0.789526</td>\n",
       "      <td>-0.029328</td>\n",
       "      <td>1.000000</td>\n",
       "    </tr>\n",
       "  </tbody>\n",
       "</table>\n",
       "</div>"
      ],
      "text/plain": [
       "                          Daily Time Spent on Site       Age  Area Income  \\\n",
       "Daily Time Spent on Site                  1.000000 -0.330578     0.317495   \n",
       "Age                                      -0.330578  1.000000    -0.187962   \n",
       "Area Income                               0.317495 -0.187962     1.000000   \n",
       "Daily Internet Usage                      0.516474 -0.383187     0.329063   \n",
       "Male                                     -0.031871 -0.032459    -0.009542   \n",
       "Clicked on Ad                            -0.744232  0.495268    -0.474938   \n",
       "\n",
       "                          Daily Internet Usage      Male  Clicked on Ad  \n",
       "Daily Time Spent on Site              0.516474 -0.031871      -0.744232  \n",
       "Age                                  -0.383187 -0.032459       0.495268  \n",
       "Area Income                           0.329063 -0.009542      -0.474938  \n",
       "Daily Internet Usage                  1.000000  0.028773      -0.789526  \n",
       "Male                                  0.028773  1.000000      -0.029328  \n",
       "Clicked on Ad                        -0.789526 -0.029328       1.000000  "
      ]
     },
     "execution_count": 380,
     "metadata": {},
     "output_type": "execute_result"
    }
   ],
   "source": [
    "data.corr()"
   ]
  },
  {
   "cell_type": "markdown",
   "metadata": {},
   "source": [
    "## 3.2 Statistics of categorical variables"
   ]
  },
  {
   "cell_type": "code",
   "execution_count": 381,
   "metadata": {},
   "outputs": [
    {
     "name": "stdout",
     "output_type": "stream",
     "text": [
      "Number of unique values in Ad Topic Line: 873\n",
      "Number of unique values in City: 851\n",
      "Number of unique values in Male: 2\n",
      "Number of unique values in Country: 233\n",
      "Number of unique values in Clicked on Ad: 2\n"
     ]
    }
   ],
   "source": [
    "print('Number of unique values in Ad Topic Line:',data['Ad Topic Line'].nunique())\n",
    "print('Number of unique values in City:',data['City'].nunique())\n",
    "print('Number of unique values in Male:',data['Male'].nunique())\n",
    "print('Number of unique values in Country:',data['Country'].nunique())\n",
    "print('Number of unique values in Clicked on Ad:',data['Clicked on Ad'].nunique())"
   ]
  },
  {
   "cell_type": "markdown",
   "metadata": {},
   "source": [
    "## 3.2 Univariate Analysis\n",
    "\n",
    "In this section we will study the distribution of categorical and quantitative variables: \n",
    "\n",
    "<li><b>Quantitative variables</b> can either be continuous or discrete </li>\n",
    "<li><b>Categorical variables</b> are qualitative and can either be ordinal (rank) or nominal (no rank)</li>\n"
   ]
  },
  {
   "cell_type": "markdown",
   "metadata": {},
   "source": [
    "### 3.2.1 Quantitive Data\n",
    "\n",
    "We look at the frequency distribution of each variable."
   ]
  },
  {
   "cell_type": "code",
   "execution_count": 382,
   "metadata": {},
   "outputs": [
    {
     "data": {
      "text/plain": [
       "<matplotlib.axes._subplots.AxesSubplot at 0x23aa00ca948>"
      ]
     },
     "execution_count": 382,
     "metadata": {},
     "output_type": "execute_result"
    },
    {
     "data": {
      "image/png": "[encoded data removed]",
      "text/plain": [
       "<Figure size 432x288 with 1 Axes>"
      ]
     },
     "metadata": {
      "needs_background": "light"
     },
     "output_type": "display_data"
    }
   ],
   "source": [
    "sns.distplot(data['Daily Time Spent on Site'])"
   ]
  },
  {
   "cell_type": "code",
   "execution_count": 383,
   "metadata": {},
   "outputs": [
    {
     "data": {
      "text/plain": [
       "<matplotlib.axes._subplots.AxesSubplot at 0x23aa0114b48>"
      ]
     },
     "execution_count": 383,
     "metadata": {},
     "output_type": "execute_result"
    },
    {
     "data": {
      "image/png": "[encoded data removed]",
      "text/plain": [
       "<Figure size 432x288 with 1 Axes>"
      ]
     },
     "metadata": {
      "needs_background": "light"
     },
     "output_type": "display_data"
    }
   ],
   "source": [
    "sns.distplot(data['Age'])"
   ]
  },
  {
   "cell_type": "code",
   "execution_count": 384,
   "metadata": {},
   "outputs": [
    {
     "data": {
      "text/plain": [
       "<matplotlib.axes._subplots.AxesSubplot at 0x23aa12f0388>"
      ]
     },
     "execution_count": 384,
     "metadata": {},
     "output_type": "execute_result"
    },
    {
     "data": {
      "image/png": "[encoded data removed]",
      "text/plain": [
       "<Figure size 432x288 with 1 Axes>"
      ]
     },
     "metadata": {
      "needs_background": "light"
     },
     "output_type": "display_data"
    }
   ],
   "source": [
    "sns.distplot(data['Area Income'])"
   ]
  },
  {
   "cell_type": "code",
   "execution_count": 385,
   "metadata": {},
   "outputs": [
    {
     "data": {
      "text/plain": [
       "<matplotlib.axes._subplots.AxesSubplot at 0x23aa13bd888>"
      ]
     },
     "execution_count": 385,
     "metadata": {},
     "output_type": "execute_result"
    },
    {
     "data": {
      "image/png": "[encoded data removed]",
      "text/plain": [
       "<Figure size 432x288 with 1 Axes>"
      ]
     },
     "metadata": {
      "needs_background": "light"
     },
     "output_type": "display_data"
    }
   ],
   "source": [
    "sns.distplot(data['Daily Internet Usage'])"
   ]
  },
  {
   "cell_type": "code",
   "execution_count": 386,
   "metadata": {},
   "outputs": [
    {
     "data": {
      "text/plain": [
       "<matplotlib.axes._subplots.AxesSubplot at 0x23aa1431648>"
      ]
     },
     "execution_count": 386,
     "metadata": {},
     "output_type": "execute_result"
    },
    {
     "data": {
      "image/png": "[encoded data removed]",
      "text/plain": [
       "<Figure size 432x288 with 1 Axes>"
      ]
     },
     "metadata": {
      "needs_background": "light"
     },
     "output_type": "display_data"
    }
   ],
   "source": [
    "sns.distplot(data['Timestamp'])"
   ]
  },
  {
   "cell_type": "code",
   "execution_count": 387,
   "metadata": {},
   "outputs": [
    {
     "data": {
      "text/plain": [
       "<matplotlib.axes._subplots.AxesSubplot at 0x23aa14a5508>"
      ]
     },
     "execution_count": 387,
     "metadata": {},
     "output_type": "execute_result"
    },
    {
     "data": {
      "image/png": "[encoded data removed]",
      "text/plain": [
       "<Figure size 432x288 with 1 Axes>"
      ]
     },
     "metadata": {
      "needs_background": "light"
     },
     "output_type": "display_data"
    }
   ],
   "source": [
    "sns.distplot(data['Clicked on Ad'])"
   ]
  },
  {
   "cell_type": "markdown",
   "metadata": {},
   "source": [
    "### 3.2.2 Categorical Data\n",
    "\n",
    "For each category, we look at each overal percentage"
   ]
  },
  {
   "cell_type": "code",
   "execution_count": 467,
   "metadata": {},
   "outputs": [
    {
     "data": {
      "text/plain": [
       "<matplotlib.axes._subplots.AxesSubplot at 0x23aa28e3508>"
      ]
     },
     "execution_count": 467,
     "metadata": {},
     "output_type": "execute_result"
    },
    {
     "data": {
      "image/png": "[encoded data removed]",
      "text/plain": [
       "<Figure size 432x288 with 1 Axes>"
      ]
     },
     "metadata": {
      "needs_background": "light"
     },
     "output_type": "display_data"
    }
   ],
   "source": [
    "sns.barplot( x=\"Male\", y=\"Male\", data=da, estimator=lambda x: len(x) / len(da) * 100) # we look at the distribution of female vs male\n"
   ]
  },
  {
   "cell_type": "markdown",
   "metadata": {},
   "source": [
    "## 3.3 Multivariable Analysis\n",
    "\n",
    "In this section we will study the distribution of categorical and quantitative variables against other variables to see if we can establish which ones have influence on others. \n",
    "\n",
    "We are obviously mostly interested by a given variable influence on Clicked on Ad.\n",
    "\n",
    "### 3.3.1 Quantitive variables"
   ]
  },
  {
   "cell_type": "code",
   "execution_count": null,
   "metadata": {},
   "outputs": [],
   "source": [
    "sns.boxplot(y='Daily Time Spent on Site', x=\"Clicked on Ad\", data=data)"
   ]
  },
  {
   "cell_type": "code",
   "execution_count": 389,
   "metadata": {},
   "outputs": [
    {
     "data": {
      "text/plain": [
       "<matplotlib.axes._subplots.AxesSubplot at 0x23aa159c7c8>"
      ]
     },
     "execution_count": 389,
     "metadata": {},
     "output_type": "execute_result"
    },
    {
     "data": {
      "image/png": "[encoded data removed]",
      "text/plain": [
       "<Figure size 432x288 with 1 Axes>"
      ]
     },
     "metadata": {
      "needs_background": "light"
     },
     "output_type": "display_data"
    }
   ],
   "source": [
    "sns.boxplot(x='Clicked on Ad', y=\"Age\", data=data)"
   ]
  },
  {
   "cell_type": "code",
   "execution_count": 390,
   "metadata": {},
   "outputs": [
    {
     "data": {
      "text/plain": [
       "<matplotlib.axes._subplots.AxesSubplot at 0x23aa14dfe88>"
      ]
     },
     "execution_count": 390,
     "metadata": {},
     "output_type": "execute_result"
    },
    {
     "data": {
      "image/png": "[encoded data removed]",
      "text/plain": [
       "<Figure size 432x288 with 1 Axes>"
      ]
     },
     "metadata": {
      "needs_background": "light"
     },
     "output_type": "display_data"
    }
   ],
   "source": [
    "\n",
    "sns.boxplot(y='Area Income', x=\"Clicked on Ad\", data=data)"
   ]
  },
  {
   "cell_type": "code",
   "execution_count": 391,
   "metadata": {},
   "outputs": [
    {
     "data": {
      "text/plain": [
       "<matplotlib.axes._subplots.AxesSubplot at 0x23aa1591e48>"
      ]
     },
     "execution_count": 391,
     "metadata": {},
     "output_type": "execute_result"
    },
    {
     "data": {
      "image/png": "[encoded data removed]",
      "text/plain": [
       "<Figure size 432x288 with 1 Axes>"
      ]
     },
     "metadata": {
      "needs_background": "light"
     },
     "output_type": "display_data"
    }
   ],
   "source": [
    "\n",
    "sns.boxplot(y='Daily Internet Usage', x=\"Clicked on Ad\", data=data)"
   ]
  },
  {
   "cell_type": "markdown",
   "metadata": {},
   "source": [
    "### 3.3.2 Categorical variables"
   ]
  },
  {
   "cell_type": "code",
   "execution_count": 392,
   "metadata": {},
   "outputs": [
    {
     "data": {
      "text/plain": [
       "<matplotlib.axes._subplots.AxesSubplot at 0x23aa16fac48>"
      ]
     },
     "execution_count": 392,
     "metadata": {},
     "output_type": "execute_result"
    },
    {
     "data": {
      "image/png": "[encoded data removed]",
      "text/plain": [
       "<Figure size 432x288 with 1 Axes>"
      ]
     },
     "metadata": {
      "needs_background": "light"
     },
     "output_type": "display_data"
    }
   ],
   "source": [
    "sns.boxplot( x=\"Clicked on Ad\", y=\"Age\", data=data) "
   ]
  },
  {
   "cell_type": "markdown",
   "metadata": {},
   "source": [
    "# 4. Modeling\n",
    "\n",
    "In this section, we will build a machine learning model that when inputed with several inputs, will be able to predict if \"Clicked on Ad\" is 0 or 1. This problem requires a classification algorithm, we will test several algorithms and select the one which has the best capabilities at training. \n",
    "\n",
    "<b>Methodology:</b> \n",
    "\n",
    "Given the previous analysis, we chose the variables that had a clear influence on \"Clicked to Ad\" to build the predictive model:\n",
    "<li> Daily Time Spent on Site</li> \n",
    "<li> Age</li> \n",
    "<li> Area income</li>\n",
    "<li> Daily internet usage</li> \n",
    "\n",
    "<li> Male</li> \n",
    "<li> Country</li> \n",
    "\n",
    "City, Timestamp and Ad Topic Line will not be selected for the model since they have almost as many different values as we have lines in the tables, we believe they therefore will not help with the modeling.\n",
    "\n",
    "For the sake of performance of the algorithm, we will also not select countries.\n",
    "\n"
   ]
  },
  {
   "cell_type": "markdown",
   "metadata": {},
   "source": [
    "## Data dropping\n",
    "\n",
    "We start by dropping the un-desired data.\n",
    "\n",
    "We will then split our data into train and test sets."
   ]
  },
  {
   "cell_type": "code",
   "execution_count": 448,
   "metadata": {},
   "outputs": [
    {
     "data": {
      "text/html": [
       "<div>\n",
       "<style scoped>\n",
       "    .dataframe tbody tr th:only-of-type {\n",
       "        vertical-align: middle;\n",
       "    }\n",
       "\n",
       "    .dataframe tbody tr th {\n",
       "        vertical-align: top;\n",
       "    }\n",
       "\n",
       "    .dataframe thead th {\n",
       "        text-align: right;\n",
       "    }\n",
       "</style>\n",
       "<table border=\"1\" class=\"dataframe\">\n",
       "  <thead>\n",
       "    <tr style=\"text-align: right;\">\n",
       "      <th></th>\n",
       "      <th>Daily Time Spent on Site</th>\n",
       "      <th>Age</th>\n",
       "      <th>Area Income</th>\n",
       "      <th>Daily Internet Usage</th>\n",
       "      <th>Ad Topic Line</th>\n",
       "      <th>City</th>\n",
       "      <th>Male</th>\n",
       "      <th>Country</th>\n",
       "      <th>Timestamp</th>\n",
       "      <th>Clicked on Ad</th>\n",
       "    </tr>\n",
       "  </thead>\n",
       "  <tbody>\n",
       "    <tr>\n",
       "      <th>0</th>\n",
       "      <td>68.95</td>\n",
       "      <td>35</td>\n",
       "      <td>61833.90</td>\n",
       "      <td>256.09</td>\n",
       "      <td>Cloned 5thgeneration orchestration</td>\n",
       "      <td>Wrightburgh</td>\n",
       "      <td>0</td>\n",
       "      <td>Tunisia</td>\n",
       "      <td>2016-03-27</td>\n",
       "      <td>0</td>\n",
       "    </tr>\n",
       "    <tr>\n",
       "      <th>1</th>\n",
       "      <td>80.23</td>\n",
       "      <td>31</td>\n",
       "      <td>68441.85</td>\n",
       "      <td>193.77</td>\n",
       "      <td>Monitored national standardization</td>\n",
       "      <td>West Jodi</td>\n",
       "      <td>1</td>\n",
       "      <td>Nauru</td>\n",
       "      <td>2016-04-04</td>\n",
       "      <td>0</td>\n",
       "    </tr>\n",
       "  </tbody>\n",
       "</table>\n",
       "</div>"
      ],
      "text/plain": [
       "   Daily Time Spent on Site  Age  Area Income  Daily Internet Usage  \\\n",
       "0                     68.95   35     61833.90                256.09   \n",
       "1                     80.23   31     68441.85                193.77   \n",
       "\n",
       "                        Ad Topic Line         City  Male  Country  Timestamp  \\\n",
       "0  Cloned 5thgeneration orchestration  Wrightburgh     0  Tunisia 2016-03-27   \n",
       "1  Monitored national standardization    West Jodi     1    Nauru 2016-04-04   \n",
       "\n",
       "   Clicked on Ad  \n",
       "0              0  \n",
       "1              0  "
      ]
     },
     "execution_count": 448,
     "metadata": {},
     "output_type": "execute_result"
    }
   ],
   "source": [
    "data.head(2)"
   ]
  },
  {
   "cell_type": "code",
   "execution_count": 455,
   "metadata": {},
   "outputs": [
    {
     "data": {
      "text/html": [
       "<div>\n",
       "<style scoped>\n",
       "    .dataframe tbody tr th:only-of-type {\n",
       "        vertical-align: middle;\n",
       "    }\n",
       "\n",
       "    .dataframe tbody tr th {\n",
       "        vertical-align: top;\n",
       "    }\n",
       "\n",
       "    .dataframe thead th {\n",
       "        text-align: right;\n",
       "    }\n",
       "</style>\n",
       "<table border=\"1\" class=\"dataframe\">\n",
       "  <thead>\n",
       "    <tr style=\"text-align: right;\">\n",
       "      <th></th>\n",
       "      <th>Daily Time Spent on Site</th>\n",
       "      <th>Age</th>\n",
       "      <th>Area Income</th>\n",
       "      <th>Daily Internet Usage</th>\n",
       "      <th>Male</th>\n",
       "      <th>Clicked on Ad</th>\n",
       "    </tr>\n",
       "  </thead>\n",
       "  <tbody>\n",
       "    <tr>\n",
       "      <th>0</th>\n",
       "      <td>68.95</td>\n",
       "      <td>35</td>\n",
       "      <td>61833.90</td>\n",
       "      <td>256.09</td>\n",
       "      <td>0</td>\n",
       "      <td>0</td>\n",
       "    </tr>\n",
       "    <tr>\n",
       "      <th>1</th>\n",
       "      <td>80.23</td>\n",
       "      <td>31</td>\n",
       "      <td>68441.85</td>\n",
       "      <td>193.77</td>\n",
       "      <td>1</td>\n",
       "      <td>0</td>\n",
       "    </tr>\n",
       "    <tr>\n",
       "      <th>2</th>\n",
       "      <td>69.47</td>\n",
       "      <td>26</td>\n",
       "      <td>59785.94</td>\n",
       "      <td>236.50</td>\n",
       "      <td>0</td>\n",
       "      <td>0</td>\n",
       "    </tr>\n",
       "    <tr>\n",
       "      <th>3</th>\n",
       "      <td>74.15</td>\n",
       "      <td>29</td>\n",
       "      <td>54806.18</td>\n",
       "      <td>245.89</td>\n",
       "      <td>1</td>\n",
       "      <td>0</td>\n",
       "    </tr>\n",
       "    <tr>\n",
       "      <th>4</th>\n",
       "      <td>68.37</td>\n",
       "      <td>35</td>\n",
       "      <td>73889.99</td>\n",
       "      <td>225.58</td>\n",
       "      <td>0</td>\n",
       "      <td>0</td>\n",
       "    </tr>\n",
       "    <tr>\n",
       "      <th>...</th>\n",
       "      <td>...</td>\n",
       "      <td>...</td>\n",
       "      <td>...</td>\n",
       "      <td>...</td>\n",
       "      <td>...</td>\n",
       "      <td>...</td>\n",
       "    </tr>\n",
       "    <tr>\n",
       "      <th>995</th>\n",
       "      <td>72.97</td>\n",
       "      <td>30</td>\n",
       "      <td>71384.57</td>\n",
       "      <td>208.58</td>\n",
       "      <td>1</td>\n",
       "      <td>1</td>\n",
       "    </tr>\n",
       "    <tr>\n",
       "      <th>996</th>\n",
       "      <td>51.30</td>\n",
       "      <td>45</td>\n",
       "      <td>67782.17</td>\n",
       "      <td>134.42</td>\n",
       "      <td>1</td>\n",
       "      <td>1</td>\n",
       "    </tr>\n",
       "    <tr>\n",
       "      <th>997</th>\n",
       "      <td>51.63</td>\n",
       "      <td>51</td>\n",
       "      <td>42415.72</td>\n",
       "      <td>120.37</td>\n",
       "      <td>1</td>\n",
       "      <td>1</td>\n",
       "    </tr>\n",
       "    <tr>\n",
       "      <th>998</th>\n",
       "      <td>55.55</td>\n",
       "      <td>19</td>\n",
       "      <td>41920.79</td>\n",
       "      <td>187.95</td>\n",
       "      <td>0</td>\n",
       "      <td>0</td>\n",
       "    </tr>\n",
       "    <tr>\n",
       "      <th>999</th>\n",
       "      <td>45.01</td>\n",
       "      <td>26</td>\n",
       "      <td>29875.80</td>\n",
       "      <td>178.35</td>\n",
       "      <td>0</td>\n",
       "      <td>1</td>\n",
       "    </tr>\n",
       "  </tbody>\n",
       "</table>\n",
       "<p>859 rows × 6 columns</p>\n",
       "</div>"
      ],
      "text/plain": [
       "     Daily Time Spent on Site  Age  Area Income  Daily Internet Usage  Male  \\\n",
       "0                       68.95   35     61833.90                256.09     0   \n",
       "1                       80.23   31     68441.85                193.77     1   \n",
       "2                       69.47   26     59785.94                236.50     0   \n",
       "3                       74.15   29     54806.18                245.89     1   \n",
       "4                       68.37   35     73889.99                225.58     0   \n",
       "..                        ...  ...          ...                   ...   ...   \n",
       "995                     72.97   30     71384.57                208.58     1   \n",
       "996                     51.30   45     67782.17                134.42     1   \n",
       "997                     51.63   51     42415.72                120.37     1   \n",
       "998                     55.55   19     41920.79                187.95     0   \n",
       "999                     45.01   26     29875.80                178.35     0   \n",
       "\n",
       "     Clicked on Ad  \n",
       "0                0  \n",
       "1                0  \n",
       "2                0  \n",
       "3                0  \n",
       "4                0  \n",
       "..             ...  \n",
       "995              1  \n",
       "996              1  \n",
       "997              1  \n",
       "998              0  \n",
       "999              1  \n",
       "\n",
       "[859 rows x 6 columns]"
      ]
     },
     "execution_count": 455,
     "metadata": {},
     "output_type": "execute_result"
    }
   ],
   "source": [
    "data1 = data\n",
    "data1 = data1.drop(['City', 'Timestamp','Ad Topic Line','Country'], axis=1)\n",
    "data1.dropna(axis='rows', inplace=True) # we drop rows with NA values\n",
    "data1"
   ]
  },
  {
   "cell_type": "code",
   "execution_count": 456,
   "metadata": {},
   "outputs": [],
   "source": [
    "#data1 = pd.get_dummies(data1) # NOT USED\n",
    "#data1"
   ]
  },
  {
   "cell_type": "markdown",
   "metadata": {},
   "source": [
    "## Split into train and test sets"
   ]
  },
  {
   "cell_type": "code",
   "execution_count": 457,
   "metadata": {},
   "outputs": [
    {
     "name": "stdout",
     "output_type": "stream",
     "text": [
      "number of test samples : 172\n",
      "number of training samples: 687\n"
     ]
    }
   ],
   "source": [
    "\n",
    "\n",
    "from sklearn.model_selection import train_test_split\n",
    "\n",
    "y_data = data1['Clicked on Ad']\n",
    "x_data = data1\n",
    "x_data.drop('Clicked on Ad',axis=1)\n",
    "\n",
    "x_train, x_test, y_train, y_test = train_test_split(x_data, y_data, test_size=0.20, random_state=5)\n",
    "\n",
    "print(\"number of test samples :\", x_test.shape[0])\n",
    "print(\"number of training samples:\",x_train.shape[0])"
   ]
  },
  {
   "cell_type": "code",
   "execution_count": null,
   "metadata": {},
   "outputs": [],
   "source": []
  },
  {
   "cell_type": "code",
   "execution_count": 458,
   "metadata": {},
   "outputs": [
    {
     "name": "stdout",
     "output_type": "stream",
     "text": [
      "train set is made of the first  687  rows, which constitute  80.0  percent of the dataset\n",
      "test set is made of the last  172  rows which constitute  20.0  percent of the dataset\n",
      "the sum of the train and test sets is  859  and must equal the length of the whole data set which is 859\n"
     ]
    }
   ],
   "source": [
    "test_fraction = 0.2 # we use 20% of the data to test the model\n",
    "train_fraction = 1-test_fraction # we use 85% of the data to test the model\n",
    "\n",
    "end_ = int(round(len(data1)*test_fraction,0)) \n",
    "init_ = int(round(len(data1)*train_fraction,0)) \n",
    "\n",
    "print('train set is made of the first ',init_,' rows,', 'which constitute ',train_fraction*100,' percent of the dataset')\n",
    "print('test set is made of the last ',end_,' rows', 'which constitute ',test_fraction*100,' percent of the dataset')\n",
    "print('the sum of the train and test sets is ',init_+end_,' and must equal the length of the whole data set which is',len(data1))"
   ]
  },
  {
   "cell_type": "code",
   "execution_count": 459,
   "metadata": {},
   "outputs": [],
   "source": [
    "X = data1.drop('Clicked on Ad',axis=1)\n",
    "\n",
    "column_names = X.columns.tolist()\n",
    "\n",
    "X = X.astype('float64')\n",
    "\n",
    "\n",
    "from sklearn.preprocessing import MinMaxScaler # we use the MinMaxScaler to scale our independent data\n",
    "scaler = MinMaxScaler() \n",
    "scaler.fit(X)\n",
    "X = scaler.transform(X) \n",
    "  \n",
    "X = pd.DataFrame(data=X)    \n",
    "X_train = X.head(init_)\n",
    "X_test = X.tail(end_)\n",
    "\n",
    "Train_data = data1.head(init_)\n",
    "Test_data = data1.tail(end_)\n",
    "    \n",
    "y_train = np.asarray(Train_data['Clicked on Ad'])\n",
    "y_test = np.asarray(Test_data['Clicked on Ad'])"
   ]
  },
  {
   "cell_type": "code",
   "execution_count": 460,
   "metadata": {},
   "outputs": [
    {
     "data": {
      "text/html": [
       "<div>\n",
       "<style scoped>\n",
       "    .dataframe tbody tr th:only-of-type {\n",
       "        vertical-align: middle;\n",
       "    }\n",
       "\n",
       "    .dataframe tbody tr th {\n",
       "        vertical-align: top;\n",
       "    }\n",
       "\n",
       "    .dataframe thead th {\n",
       "        text-align: right;\n",
       "    }\n",
       "</style>\n",
       "<table border=\"1\" class=\"dataframe\">\n",
       "  <thead>\n",
       "    <tr style=\"text-align: right;\">\n",
       "      <th></th>\n",
       "      <th>Daily Time Spent on Site</th>\n",
       "      <th>Age</th>\n",
       "      <th>Area Income</th>\n",
       "      <th>Daily Internet Usage</th>\n",
       "      <th>Male</th>\n",
       "      <th>Clicked on Ad</th>\n",
       "    </tr>\n",
       "  </thead>\n",
       "  <tbody>\n",
       "    <tr>\n",
       "      <th>283</th>\n",
       "      <td>71.76</td>\n",
       "      <td>35</td>\n",
       "      <td>69285.69</td>\n",
       "      <td>237.39</td>\n",
       "      <td>0</td>\n",
       "      <td>0</td>\n",
       "    </tr>\n",
       "    <tr>\n",
       "      <th>560</th>\n",
       "      <td>67.69</td>\n",
       "      <td>44</td>\n",
       "      <td>37345.34</td>\n",
       "      <td>109.22</td>\n",
       "      <td>0</td>\n",
       "      <td>1</td>\n",
       "    </tr>\n",
       "    <tr>\n",
       "      <th>994</th>\n",
       "      <td>43.70</td>\n",
       "      <td>28</td>\n",
       "      <td>63126.96</td>\n",
       "      <td>173.01</td>\n",
       "      <td>0</td>\n",
       "      <td>1</td>\n",
       "    </tr>\n",
       "    <tr>\n",
       "      <th>649</th>\n",
       "      <td>84.31</td>\n",
       "      <td>29</td>\n",
       "      <td>47139.21</td>\n",
       "      <td>225.87</td>\n",
       "      <td>0</td>\n",
       "      <td>0</td>\n",
       "    </tr>\n",
       "    <tr>\n",
       "      <th>299</th>\n",
       "      <td>65.80</td>\n",
       "      <td>25</td>\n",
       "      <td>60843.32</td>\n",
       "      <td>231.49</td>\n",
       "      <td>1</td>\n",
       "      <td>0</td>\n",
       "    </tr>\n",
       "    <tr>\n",
       "      <th>...</th>\n",
       "      <td>...</td>\n",
       "      <td>...</td>\n",
       "      <td>...</td>\n",
       "      <td>...</td>\n",
       "      <td>...</td>\n",
       "      <td>...</td>\n",
       "    </tr>\n",
       "    <tr>\n",
       "      <th>87</th>\n",
       "      <td>52.70</td>\n",
       "      <td>34</td>\n",
       "      <td>58543.94</td>\n",
       "      <td>118.60</td>\n",
       "      <td>1</td>\n",
       "      <td>1</td>\n",
       "    </tr>\n",
       "    <tr>\n",
       "      <th>517</th>\n",
       "      <td>82.79</td>\n",
       "      <td>34</td>\n",
       "      <td>47997.75</td>\n",
       "      <td>132.08</td>\n",
       "      <td>0</td>\n",
       "      <td>1</td>\n",
       "    </tr>\n",
       "    <tr>\n",
       "      <th>132</th>\n",
       "      <td>51.24</td>\n",
       "      <td>36</td>\n",
       "      <td>76368.31</td>\n",
       "      <td>176.73</td>\n",
       "      <td>0</td>\n",
       "      <td>1</td>\n",
       "    </tr>\n",
       "    <tr>\n",
       "      <th>842</th>\n",
       "      <td>78.24</td>\n",
       "      <td>23</td>\n",
       "      <td>54106.21</td>\n",
       "      <td>199.29</td>\n",
       "      <td>0</td>\n",
       "      <td>0</td>\n",
       "    </tr>\n",
       "    <tr>\n",
       "      <th>220</th>\n",
       "      <td>77.88</td>\n",
       "      <td>37</td>\n",
       "      <td>55353.41</td>\n",
       "      <td>254.57</td>\n",
       "      <td>0</td>\n",
       "      <td>0</td>\n",
       "    </tr>\n",
       "  </tbody>\n",
       "</table>\n",
       "<p>687 rows × 6 columns</p>\n",
       "</div>"
      ],
      "text/plain": [
       "     Daily Time Spent on Site  Age  Area Income  Daily Internet Usage  Male  \\\n",
       "283                     71.76   35     69285.69                237.39     0   \n",
       "560                     67.69   44     37345.34                109.22     0   \n",
       "994                     43.70   28     63126.96                173.01     0   \n",
       "649                     84.31   29     47139.21                225.87     0   \n",
       "299                     65.80   25     60843.32                231.49     1   \n",
       "..                        ...  ...          ...                   ...   ...   \n",
       "87                      52.70   34     58543.94                118.60     1   \n",
       "517                     82.79   34     47997.75                132.08     0   \n",
       "132                     51.24   36     76368.31                176.73     0   \n",
       "842                     78.24   23     54106.21                199.29     0   \n",
       "220                     77.88   37     55353.41                254.57     0   \n",
       "\n",
       "     Clicked on Ad  \n",
       "283              0  \n",
       "560              1  \n",
       "994              1  \n",
       "649              0  \n",
       "299              0  \n",
       "..             ...  \n",
       "87               1  \n",
       "517              1  \n",
       "132              1  \n",
       "842              0  \n",
       "220              0  \n",
       "\n",
       "[687 rows x 6 columns]"
      ]
     },
     "execution_count": 460,
     "metadata": {},
     "output_type": "execute_result"
    }
   ],
   "source": [
    "x_train"
   ]
  },
  {
   "cell_type": "markdown",
   "metadata": {},
   "source": [
    "## Classification model testing"
   ]
  },
  {
   "cell_type": "code",
   "execution_count": 461,
   "metadata": {},
   "outputs": [
    {
     "name": "stdout",
     "output_type": "stream",
     "text": [
      "               classifier  train_score  training_time\n",
      "0     Logistic Regression     0.973799       0.015625\n",
      "1       Nearest Neighbors     0.970888       0.000000\n",
      "2  Support Vector Machine     0.967977       0.000000\n",
      "3           Decision Tree     1.000000       0.031250\n",
      "4           Random Forest     1.000000       0.343750\n",
      "5            Naives Bayes     0.966521       0.000000\n"
     ]
    }
   ],
   "source": [
    "import time\n",
    "from sklearn.linear_model import LogisticRegression\n",
    "from sklearn.neighbors import KNeighborsClassifier\n",
    "from sklearn.svm import SVC\n",
    "from sklearn.tree import DecisionTreeClassifier\n",
    "from sklearn.ensemble import RandomForestClassifier\n",
    "from sklearn.naive_bayes import GaussianNB\n",
    "\n",
    "dict_classifiers = {\n",
    "    'Logistic Regression' : LogisticRegression(solver='lbfgs', max_iter=50000), \n",
    "    'Nearest Neighbors' : KNeighborsClassifier(),\n",
    "    'Support Vector Machine' : SVC(gamma= 'auto'),\n",
    "    'Decision Tree' : DecisionTreeClassifier(),\n",
    "    'Random Forest' : RandomForestClassifier(),\n",
    "    'Naives Bayes' : GaussianNB()\n",
    "}\n",
    "\n",
    "no_classifiers = len(dict_classifiers.keys()) #\n",
    "\n",
    "def batch_classify(X_train, y_train, verbose = True):\n",
    "    df_results = pd.DataFrame(data=np.zeros(shape=(no_classifiers,3)),\n",
    "                             columns=['classifier','train_score','training_time'])\n",
    "    count = 0\n",
    "    for key, classifier in dict_classifiers.items():\n",
    "        t_start = time.process_time()\n",
    "        classifier.fit(X_train, y_train)\n",
    "        t_end = time.process_time()\n",
    "        t_diff = t_end - t_start\n",
    "        train_score = classifier.score(X_train, y_train)\n",
    "        df_results.loc[count, 'classifier'] = key\n",
    "        df_results.loc[count, 'train_score'] = train_score\n",
    "        df_results.loc[count, 'training_time'] = t_diff\n",
    "\n",
    "        count = count + 1\n",
    "    return df_results\n",
    "\n",
    "df_results = batch_classify(X_train, y_train)\n",
    "print(df_results)"
   ]
  },
  {
   "cell_type": "markdown",
   "metadata": {},
   "source": [
    "### Development of a Random Forest classifier"
   ]
  },
  {
   "cell_type": "code",
   "execution_count": 464,
   "metadata": {},
   "outputs": [
    {
     "name": "stdout",
     "output_type": "stream",
     "text": [
      "The model accuracy score is:  0.52\n",
      "\n",
      "\n",
      "The model classification report is:\n",
      "              precision    recall  f1-score   support\n",
      "\n",
      "           0       0.46      0.61      0.53        75\n",
      "           1       0.60      0.45      0.52        97\n",
      "\n",
      "    accuracy                           0.52       172\n",
      "   macro avg       0.53      0.53      0.52       172\n",
      "weighted avg       0.54      0.52      0.52       172\n",
      "\n"
     ]
    }
   ],
   "source": [
    "from sklearn.ensemble import RandomForestClassifier\n",
    "from sklearn.metrics import accuracy_score\n",
    "from sklearn.metrics import confusion_matrix\n",
    "from sklearn.metrics import classification_report\n",
    "rf = RandomForestClassifier(random_state=2)\n",
    "rf.fit(x_train, y_train)\n",
    "\n",
    "yhat = rf.predict(x_test)\n",
    "yhat = [int(i) for i in yhat]\n",
    "y_test = [int(i) for i in y_test]\n",
    "yhat_prob = rf.predict_proba(x_test)\n",
    "\n",
    "from sklearn.metrics import roc_curve, auc\n",
    "false_positive_rate, true_positive_rate, thresholds = roc_curve(y_test, yhat)\n",
    "roc_auc = auc(false_positive_rate, true_positive_rate)\n",
    "roc_auc\n",
    "\n",
    "#print('roc_auc: ', roc_auc)\n",
    "#print()\n",
    "print('The model accuracy score is: ', round(accuracy_score(y_test,yhat),2))\n",
    "print()\n",
    "\n",
    "#print('confusion matrix: ')\n",
    "#print(confusion_matrix(y_test,yhat))\n",
    "print()\n",
    "print('The model classification report is:')\n",
    "print(classification_report(y_test,yhat))\n",
    "\n",
    "\n"
   ]
  },
  {
   "cell_type": "markdown",
   "metadata": {},
   "source": [
    "## The End!"
   ]
  },
  {
   "cell_type": "code",
   "execution_count": null,
   "metadata": {},
   "outputs": [],
   "source": []
  }
 ],
 "metadata": {
  "hide_input": false,
  "kernelspec": {
   "display_name": "Python 3",
   "language": "python",
   "name": "python3"
  },
  "language_info": {
   "codemirror_mode": {
    "name": "ipython",
    "version": 3
   },
   "file_extension": ".py",
   "mimetype": "text/x-python",
   "name": "python",
   "nbconvert_exporter": "python",
   "pygments_lexer": "ipython3",
   "version": "3.7.6"
  }
 },
 "nbformat": 4,
 "nbformat_minor": 4
}
